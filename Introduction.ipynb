{
 "cells": [
  {
   "cell_type": "markdown",
   "metadata": {},
   "source": [
    "## Introduction\n",
    "Toronto is the provincial capital of Ontario and the most populous city in the Canada. It is multicultural, provides lot of business opportunities and business friendly environment. It has attracted many different players into the market. It is a global hub of business and commerce. The city is a major centre for banking and finance, retailing, world trade, transportation, tourism, real estate, new media, traditional media, advertising, legal services, accountancy, insurance, theatre, fashion, and the arts in Canada. This also means that the market is highly competitive. As it is a highly developed city, the cost of doing business is also one of the highest. Thus, any new business venture or expansion needs to be carefully analysed. The insights derived from analysis will give good understanding of the business environment which help in strategically targeting the market. This will reduce the risk involved and increase the Return on Investment considerably.\n",
    "## Business problem\n",
    "The City of Toronto is famous for its excellent cuisine. It's food culture includes an array of international cuisines influenced by the city's immigrant history. In recent years, the immigration of Africans into the city have created a need for african restaurants and afrocentric businesses to be created to meet the needs of the people. Starting an african restaurant can be a great business opportunity.\n",
    "## Find a suitable location\n",
    "Various factors need to be studied in order to decide on the Location. It is however important to note that to find a good location for the restaurant, we need to focus on neighbourhoods and outlets that already attract working class people. These are likely to be affordable high-traffic locations with large shopping centres and other local points of interest. \n",
    "## Target Audience\n",
    "My Client wants to open his business in Etobicoke york area, so I only focus on that borough during my analysis. The objective is to locate and recommend to the management which neighborhood of Newyork city will be best choice to start a restaurant. The Management also expects to understand the rationale of the recommendations made.\n"
   ]
  }
 ],
 "metadata": {
  "kernelspec": {
   "display_name": "Python 3",
   "language": "python",
   "name": "python3"
  },
  "language_info": {
   "codemirror_mode": {
    "name": "ipython",
    "version": 3
   },
   "file_extension": ".py",
   "mimetype": "text/x-python",
   "name": "python",
   "nbconvert_exporter": "python",
   "pygments_lexer": "ipython3",
   "version": "3.7.4"
  }
 },
 "nbformat": 4,
 "nbformat_minor": 2
}
