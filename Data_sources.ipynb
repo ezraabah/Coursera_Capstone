{
 "cells": [
  {
   "cell_type": "markdown",
   "metadata": {},
   "source": [
    "#### Data\n",
    "\n",
    "To find the best location for our African restaurant, we will use the following sources of information:\n",
    "\n",
    "1. Newyork has a total of 6 boroughs and 140 neighborhoods. In order to segement the neighborhoods and explore them, we will essentially need a dataset that contains the 6 boroughs and the neighborhoods that exist in each borough as well as the the latitude and logitude coordinates of each neighborhood. Luckily, this dataset exists on wikipedia. https://en.wikipedia.org/wiki/Demographics_of_Toronto_neighbourhoods\n",
    "\n",
    "\n",
    "2. Foursquare Venues Categories - https://developer.foursquare.com/docs/resources/categories African restaurant category Id -4bf58dd8d48988d1c8941735"
   ]
  },
  {
   "cell_type": "code",
   "execution_count": null,
   "metadata": {},
   "outputs": [],
   "source": []
  }
 ],
 "metadata": {
  "kernelspec": {
   "display_name": "Python 3",
   "language": "python",
   "name": "python3"
  },
  "language_info": {
   "codemirror_mode": {
    "name": "ipython",
    "version": 3
   },
   "file_extension": ".py",
   "mimetype": "text/x-python",
   "name": "python",
   "nbconvert_exporter": "python",
   "pygments_lexer": "ipython3",
   "version": "3.7.4"
  }
 },
 "nbformat": 4,
 "nbformat_minor": 2
}
